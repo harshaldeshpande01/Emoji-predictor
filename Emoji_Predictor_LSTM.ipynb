{
 "cells": [
  {
   "cell_type": "code",
   "execution_count": 41,
   "metadata": {},
   "outputs": [],
   "source": [
    "# Including required python libraries used in this project\n",
    "import numpy as np\n",
    "import pandas as pd\n",
    "pd.options.mode.chained_assignment = None  # To remove warnings from pandas\n",
    "import emoji\n",
    "\n",
    "from keras.models import Sequential\n",
    "from keras.layers import Dense, Input, Dropout, SimpleRNN,LSTM, Activation\n",
    "from keras.utils import np_utils\n",
    "\n",
    "import matplotlib.pyplot as plt"
   ]
  },
  {
   "cell_type": "code",
   "execution_count": 42,
   "metadata": {},
   "outputs": [],
   "source": [
    "# Loading the dataset\n",
    "train = pd.read_csv('train_emoji.csv',header=None)\n",
    "test = pd.read_csv('test_emoji.csv',header=None)"
   ]
  },
  {
   "cell_type": "code",
   "execution_count": 43,
   "metadata": {},
   "outputs": [
    {
     "data": {
      "text/html": [
       "<div>\n",
       "<style scoped>\n",
       "    .dataframe tbody tr th:only-of-type {\n",
       "        vertical-align: middle;\n",
       "    }\n",
       "\n",
       "    .dataframe tbody tr th {\n",
       "        vertical-align: top;\n",
       "    }\n",
       "\n",
       "    .dataframe thead th {\n",
       "        text-align: right;\n",
       "    }\n",
       "</style>\n",
       "<table border=\"1\" class=\"dataframe\">\n",
       "  <thead>\n",
       "    <tr style=\"text-align: right;\">\n",
       "      <th></th>\n",
       "      <th>0</th>\n",
       "      <th>1</th>\n",
       "      <th>2</th>\n",
       "      <th>3</th>\n",
       "    </tr>\n",
       "  </thead>\n",
       "  <tbody>\n",
       "    <tr>\n",
       "      <th>0</th>\n",
       "      <td>never talk to me again</td>\n",
       "      <td>3</td>\n",
       "      <td>NaN</td>\n",
       "      <td>NaN</td>\n",
       "    </tr>\n",
       "    <tr>\n",
       "      <th>1</th>\n",
       "      <td>I am proud of your achievements</td>\n",
       "      <td>2</td>\n",
       "      <td>NaN</td>\n",
       "      <td>NaN</td>\n",
       "    </tr>\n",
       "    <tr>\n",
       "      <th>2</th>\n",
       "      <td>It is the worst day in my life</td>\n",
       "      <td>3</td>\n",
       "      <td>NaN</td>\n",
       "      <td>NaN</td>\n",
       "    </tr>\n",
       "    <tr>\n",
       "      <th>3</th>\n",
       "      <td>Miss you so much</td>\n",
       "      <td>0</td>\n",
       "      <td>NaN</td>\n",
       "      <td>[0]</td>\n",
       "    </tr>\n",
       "    <tr>\n",
       "      <th>4</th>\n",
       "      <td>food is life</td>\n",
       "      <td>4</td>\n",
       "      <td>NaN</td>\n",
       "      <td>NaN</td>\n",
       "    </tr>\n",
       "  </tbody>\n",
       "</table>\n",
       "</div>"
      ],
      "text/plain": [
       "                                 0  1   2     3\n",
       "0           never talk to me again  3 NaN   NaN\n",
       "1  I am proud of your achievements  2 NaN   NaN\n",
       "2   It is the worst day in my life  3 NaN   NaN\n",
       "3                 Miss you so much  0 NaN   [0]\n",
       "4                     food is life  4 NaN   NaN"
      ]
     },
     "execution_count": 43,
     "metadata": {},
     "output_type": "execute_result"
    }
   ],
   "source": [
    "# Checking data by showing first 5 rows of the train data\n",
    "train.head()"
   ]
  },
  {
   "cell_type": "code",
   "execution_count": 44,
   "metadata": {},
   "outputs": [
    {
     "data": {
      "text/html": [
       "<div>\n",
       "<style scoped>\n",
       "    .dataframe tbody tr th:only-of-type {\n",
       "        vertical-align: middle;\n",
       "    }\n",
       "\n",
       "    .dataframe tbody tr th {\n",
       "        vertical-align: top;\n",
       "    }\n",
       "\n",
       "    .dataframe thead th {\n",
       "        text-align: right;\n",
       "    }\n",
       "</style>\n",
       "<table border=\"1\" class=\"dataframe\">\n",
       "  <thead>\n",
       "    <tr style=\"text-align: right;\">\n",
       "      <th></th>\n",
       "      <th>0</th>\n",
       "      <th>1</th>\n",
       "    </tr>\n",
       "  </thead>\n",
       "  <tbody>\n",
       "    <tr>\n",
       "      <th>0</th>\n",
       "      <td>I want to eat\\t</td>\n",
       "      <td>4</td>\n",
       "    </tr>\n",
       "    <tr>\n",
       "      <th>1</th>\n",
       "      <td>he did not answer\\t</td>\n",
       "      <td>3</td>\n",
       "    </tr>\n",
       "    <tr>\n",
       "      <th>2</th>\n",
       "      <td>he got a raise\\t</td>\n",
       "      <td>2</td>\n",
       "    </tr>\n",
       "    <tr>\n",
       "      <th>3</th>\n",
       "      <td>she got me a present\\t</td>\n",
       "      <td>0</td>\n",
       "    </tr>\n",
       "    <tr>\n",
       "      <th>4</th>\n",
       "      <td>ha ha ha it was so funny\\t</td>\n",
       "      <td>2</td>\n",
       "    </tr>\n",
       "  </tbody>\n",
       "</table>\n",
       "</div>"
      ],
      "text/plain": [
       "                            0  1\n",
       "0             I want to eat\\t  4\n",
       "1         he did not answer\\t  3\n",
       "2            he got a raise\\t  2\n",
       "3      she got me a present\\t  0\n",
       "4  ha ha ha it was so funny\\t  2"
      ]
     },
     "execution_count": 44,
     "metadata": {},
     "output_type": "execute_result"
    }
   ],
   "source": [
    "# Checking data by showing first 5 rows of the test data\n",
    "test.head()"
   ]
  },
  {
   "cell_type": "code",
   "execution_count": 45,
   "metadata": {},
   "outputs": [],
   "source": [
    "# Creating dictionary for some emoji's, consisting of key - number and value - emoji \n",
    "emoji_dict = { 0 : \":heart:\", 1 : \":baseball:\", 2 : \":smile:\", 3 : \":disappointed:\", 4 : \":fork_and_knife:\"}"
   ]
  },
  {
   "cell_type": "code",
   "execution_count": 46,
   "metadata": {},
   "outputs": [
    {
     "name": "stdout",
     "output_type": "stream",
     "text": [
      "0 ❤\n",
      "1 ⚾\n",
      "2 😄\n",
      "3 😞\n",
      "4 🍴\n"
     ]
    }
   ],
   "source": [
    "# Printing each emoji icon by emojizing each emoji\n",
    "for index in emoji_dict.keys():\n",
    "    print (index,end=\" \")\n",
    "    print (emoji.emojize(emoji_dict[index], use_aliases=True))"
   ]
  },
  {
   "cell_type": "code",
   "execution_count": 47,
   "metadata": {},
   "outputs": [
    {
     "name": "stdout",
     "output_type": "stream",
     "text": [
      "(132,) (132,) (56,) (56,)\n",
      "-------------------------\n",
      "never talk to me again 3\n"
     ]
    }
   ],
   "source": [
    "# Creating training and testing data\n",
    "X_train = train[0]\n",
    "Y_train = train[1]\n",
    "\n",
    "X_test = test[0]\n",
    "Y_test = test[1]\n",
    "\n",
    "print (X_train.shape, Y_train.shape, X_test.shape, Y_test.shape)\n",
    "print (\"-------------------------\")\n",
    "print (X_train[0],Y_train[0])"
   ]
  },
  {
   "cell_type": "code",
   "execution_count": 48,
   "metadata": {},
   "outputs": [],
   "source": [
    "# Splitting the train data from sentences to words\n",
    "for ix in range(X_train.shape[0]):\n",
    "    X_train[ix] = X_train[ix].split()\n",
    "\n",
    "# Splitting the test data from sentences to words\n",
    "for ix in range(X_test.shape[0]):\n",
    "    X_test[ix] = X_test[ix].split()\n",
    "    \n",
    "# Converting labels into categorical form\n",
    "Y_train = np_utils.to_categorical(Y_train)"
   ]
  },
  {
   "cell_type": "code",
   "execution_count": 49,
   "metadata": {},
   "outputs": [
    {
     "name": "stdout",
     "output_type": "stream",
     "text": [
      "['never', 'talk', 'to', 'me', 'again'] [0. 0. 0. 1. 0.]\n"
     ]
    }
   ],
   "source": [
    "# Now checking the above conversion by printing train and test data at 0th index\n",
    "print (X_train[0],Y_train[0])"
   ]
  },
  {
   "cell_type": "code",
   "execution_count": 50,
   "metadata": {},
   "outputs": [
    {
     "data": {
      "text/plain": [
       "(array([ 1,  2,  3,  4,  5,  6,  7,  8,  9, 10]),\n",
       " array([ 4,  5, 26, 35, 20, 21, 11,  5,  1,  4], dtype=int64))"
      ]
     },
     "execution_count": 50,
     "metadata": {},
     "output_type": "execute_result"
    }
   ],
   "source": [
    "# To check maximum length of sentence in training data\n",
    "np.unique(np.array([len(ix) for ix in X_train]) , return_counts=True)"
   ]
  },
  {
   "cell_type": "code",
   "execution_count": 51,
   "metadata": {},
   "outputs": [
    {
     "data": {
      "text/plain": [
       "(array([2, 3, 4, 5, 6, 7, 8]),\n",
       " array([ 3, 12, 16, 17,  3,  4,  1], dtype=int64))"
      ]
     },
     "execution_count": 51,
     "metadata": {},
     "output_type": "execute_result"
    }
   ],
   "source": [
    "# To check maximum length of senetence in testing data\n",
    "np.unique(np.array([len(ix) for ix in X_test]) , return_counts=True)"
   ]
  },
  {
   "cell_type": "code",
   "execution_count": 52,
   "metadata": {
    "scrolled": true
   },
   "outputs": [],
   "source": [
    "# Creating  embeddings dictionary with key = word and value = list of words in glove vector\n",
    "embeddings_index = {}\n",
    "\n",
    "f = open('glove.6B.50d.txt', encoding=\"utf8\")\n",
    "for line in f:\n",
    "    values = line.split()\n",
    "    word = values[0]\n",
    "    coefs = np.asarray(values[1:], dtype='float32')\n",
    "    embeddings_index[word] = coefs\n",
    "f.close()"
   ]
  },
  {
   "cell_type": "code",
   "execution_count": 53,
   "metadata": {},
   "outputs": [
    {
     "data": {
      "text/plain": [
       "(50,)"
      ]
     },
     "execution_count": 53,
     "metadata": {},
     "output_type": "execute_result"
    }
   ],
   "source": [
    "# Checking length of a particular word\n",
    "embeddings_index[\"i\"].shape"
   ]
  },
  {
   "cell_type": "code",
   "execution_count": 54,
   "metadata": {},
   "outputs": [
    {
     "data": {
      "text/plain": [
       "0.31093674898147583"
      ]
     },
     "execution_count": 54,
     "metadata": {},
     "output_type": "execute_result"
    }
   ],
   "source": [
    "from scipy import spatial\n",
    "# Checking cosine similarity of similar words\n",
    "spatial.distance.cosine(embeddings_index[\"happy\"], embeddings_index[\"sad\"])"
   ]
  },
  {
   "cell_type": "code",
   "execution_count": 55,
   "metadata": {},
   "outputs": [],
   "source": [
    "# Filling the embedding matrix\n",
    "embedding_matrix_train = np.zeros((X_train.shape[0], 10, 50))\n",
    "embedding_matrix_test = np.zeros((X_test.shape[0], 10, 50))\n",
    "\n",
    "for ix in range(X_train.shape[0]):\n",
    "    for ij in range(len(X_train[ix])):\n",
    "        embedding_matrix_train[ix][ij] = embeddings_index[X_train[ix][ij].lower()]\n",
    "        \n",
    "for ix in range(X_test.shape[0]):\n",
    "    for ij in range(len(X_test[ix])):\n",
    "        embedding_matrix_test[ix][ij] = embeddings_index[X_test[ix][ij].lower()]        "
   ]
  },
  {
   "cell_type": "code",
   "execution_count": 56,
   "metadata": {},
   "outputs": [
    {
     "name": "stdout",
     "output_type": "stream",
     "text": [
      "(132, 10, 50) (56, 10, 50)\n"
     ]
    }
   ],
   "source": [
    "print (embedding_matrix_train.shape, embedding_matrix_test.shape)"
   ]
  },
  {
   "cell_type": "markdown",
   "metadata": {},
   "source": [
    "# Training model"
   ]
  },
  {
   "cell_type": "markdown",
   "metadata": {},
   "source": [
    "## - Using RNN"
   ]
  },
  {
   "cell_type": "code",
   "execution_count": 57,
   "metadata": {},
   "outputs": [
    {
     "name": "stdout",
     "output_type": "stream",
     "text": [
      "Model: \"sequential_2\"\n",
      "_________________________________________________________________\n",
      "Layer (type)                 Output Shape              Param #   \n",
      "=================================================================\n",
      "simple_rnn_2 (SimpleRNN)     (None, 10, 64)            7360      \n",
      "_________________________________________________________________\n",
      "dropout_4 (Dropout)          (None, 10, 64)            0         \n",
      "_________________________________________________________________\n",
      "simple_rnn_3 (SimpleRNN)     (None, 64)                8256      \n",
      "_________________________________________________________________\n",
      "dropout_5 (Dropout)          (None, 64)                0         \n",
      "_________________________________________________________________\n",
      "dense_2 (Dense)              (None, 5)                 325       \n",
      "_________________________________________________________________\n",
      "activation_2 (Activation)    (None, 5)                 0         \n",
      "=================================================================\n",
      "Total params: 15,941\n",
      "Trainable params: 15,941\n",
      "Non-trainable params: 0\n",
      "_________________________________________________________________\n"
     ]
    }
   ],
   "source": [
    "# A simple RNN network to classify the emoji class from an input Sentence\n",
    "\n",
    "model = Sequential()\n",
    "model.add(SimpleRNN(64, input_shape=(10,50), return_sequences=True))\n",
    "model.add(Dropout(0.5))\n",
    "model.add(SimpleRNN(64, return_sequences=False))\n",
    "model.add(Dropout(0.5))\n",
    "model.add(Dense(5))\n",
    "model.add(Activation('softmax'))\n",
    "\n",
    "model.summary()"
   ]
  },
  {
   "cell_type": "code",
   "execution_count": 58,
   "metadata": {},
   "outputs": [],
   "source": [
    "# Setting Loss and Optimiser for the model\n",
    "model.compile(loss='categorical_crossentropy', optimizer='adam', metrics=['accuracy'])"
   ]
  },
  {
   "cell_type": "code",
   "execution_count": 59,
   "metadata": {
    "scrolled": true
   },
   "outputs": [
    {
     "name": "stdout",
     "output_type": "stream",
     "text": [
      "Epoch 1/50\n",
      "5/5 [==============================] - 0s 5ms/step - loss: 1.9316 - accuracy: 0.2273\n",
      "Epoch 2/50\n",
      "5/5 [==============================] - 0s 5ms/step - loss: 1.6549 - accuracy: 0.3258\n",
      "Epoch 3/50\n",
      "5/5 [==============================] - 0s 22ms/step - loss: 1.6163 - accuracy: 0.2879\n",
      "Epoch 4/50\n",
      "5/5 [==============================] - 0s 36ms/step - loss: 1.6076 - accuracy: 0.3788\n",
      "Epoch 5/50\n",
      "5/5 [==============================] - 0s 50ms/step - loss: 1.4532 - accuracy: 0.3939\n",
      "Epoch 6/50\n",
      "5/5 [==============================] - 0s 37ms/step - loss: 1.3347 - accuracy: 0.4394\n",
      "Epoch 7/50\n",
      "5/5 [==============================] - 0s 34ms/step - loss: 1.3646 - accuracy: 0.4015\n",
      "Epoch 8/50\n",
      "5/5 [==============================] - 0s 38ms/step - loss: 1.3880 - accuracy: 0.4167\n",
      "Epoch 9/50\n",
      "5/5 [==============================] - 0s 43ms/step - loss: 1.1826 - accuracy: 0.4697\n",
      "Epoch 10/50\n",
      "5/5 [==============================] - ETA: 0s - loss: 1.2015 - accuracy: 0.47 - 0s 37ms/step - loss: 1.2030 - accuracy: 0.4697\n",
      "Epoch 11/50\n",
      "5/5 [==============================] - 0s 38ms/step - loss: 1.1392 - accuracy: 0.4773\n",
      "Epoch 12/50\n",
      "5/5 [==============================] - 0s 33ms/step - loss: 1.0479 - accuracy: 0.6061\n",
      "Epoch 13/50\n",
      "5/5 [==============================] - 0s 48ms/step - loss: 1.0336 - accuracy: 0.5530\n",
      "Epoch 14/50\n",
      "5/5 [==============================] - 0s 42ms/step - loss: 1.0186 - accuracy: 0.5606\n",
      "Epoch 15/50\n",
      "5/5 [==============================] - 0s 37ms/step - loss: 0.9440 - accuracy: 0.6364\n",
      "Epoch 16/50\n",
      "5/5 [==============================] - 0s 33ms/step - loss: 0.8696 - accuracy: 0.6818\n",
      "Epoch 17/50\n",
      "5/5 [==============================] - 0s 43ms/step - loss: 0.7638 - accuracy: 0.7045\n",
      "Epoch 18/50\n",
      "5/5 [==============================] - 0s 35ms/step - loss: 0.7719 - accuracy: 0.7045\n",
      "Epoch 19/50\n",
      "5/5 [==============================] - 0s 46ms/step - loss: 0.6743 - accuracy: 0.7500\n",
      "Epoch 20/50\n",
      "5/5 [==============================] - 0s 38ms/step - loss: 0.7044 - accuracy: 0.7273\n",
      "Epoch 21/50\n",
      "5/5 [==============================] - 0s 46ms/step - loss: 0.6636 - accuracy: 0.7652\n",
      "Epoch 22/50\n",
      "5/5 [==============================] - 0s 53ms/step - loss: 0.6735 - accuracy: 0.7500 0s - loss: 0.6775 - accuracy: \n",
      "Epoch 23/50\n",
      "5/5 [==============================] - 0s 5ms/step - loss: 0.5645 - accuracy: 0.8030\n",
      "Epoch 24/50\n",
      "5/5 [==============================] - 0s 5ms/step - loss: 0.5778 - accuracy: 0.7955\n",
      "Epoch 25/50\n",
      "5/5 [==============================] - 0s 5ms/step - loss: 0.5686 - accuracy: 0.7879\n",
      "Epoch 26/50\n",
      "5/5 [==============================] - 0s 5ms/step - loss: 0.5486 - accuracy: 0.8030\n",
      "Epoch 27/50\n",
      "5/5 [==============================] - 0s 5ms/step - loss: 0.5516 - accuracy: 0.8409\n",
      "Epoch 28/50\n",
      "5/5 [==============================] - 0s 6ms/step - loss: 0.5140 - accuracy: 0.8258\n",
      "Epoch 29/50\n",
      "5/5 [==============================] - 0s 5ms/step - loss: 0.4927 - accuracy: 0.8485\n",
      "Epoch 30/50\n",
      "5/5 [==============================] - 0s 5ms/step - loss: 0.4171 - accuracy: 0.8939\n",
      "Epoch 31/50\n",
      "5/5 [==============================] - 0s 5ms/step - loss: 0.3467 - accuracy: 0.9015\n",
      "Epoch 32/50\n",
      "5/5 [==============================] - 0s 4ms/step - loss: 0.4087 - accuracy: 0.8788\n",
      "Epoch 33/50\n",
      "5/5 [==============================] - 0s 4ms/step - loss: 0.3513 - accuracy: 0.8939\n",
      "Epoch 34/50\n",
      "5/5 [==============================] - 0s 4ms/step - loss: 0.4265 - accuracy: 0.8636\n",
      "Epoch 35/50\n",
      "5/5 [==============================] - 0s 4ms/step - loss: 0.3468 - accuracy: 0.8712\n",
      "Epoch 36/50\n",
      "5/5 [==============================] - 0s 4ms/step - loss: 0.2957 - accuracy: 0.9242\n",
      "Epoch 37/50\n",
      "5/5 [==============================] - 0s 4ms/step - loss: 0.2653 - accuracy: 0.9394\n",
      "Epoch 38/50\n",
      "5/5 [==============================] - 0s 3ms/step - loss: 0.3054 - accuracy: 0.9242\n",
      "Epoch 39/50\n",
      "5/5 [==============================] - 0s 34ms/step - loss: 0.2549 - accuracy: 0.9470\n",
      "Epoch 40/50\n",
      "5/5 [==============================] - 0s 35ms/step - loss: 0.2695 - accuracy: 0.9091\n",
      "Epoch 41/50\n",
      "5/5 [==============================] - 0s 53ms/step - loss: 0.2591 - accuracy: 0.9318\n",
      "Epoch 42/50\n",
      "5/5 [==============================] - 0s 35ms/step - loss: 0.2440 - accuracy: 0.9394\n",
      "Epoch 43/50\n",
      "5/5 [==============================] - 0s 36ms/step - loss: 0.2109 - accuracy: 0.9697\n",
      "Epoch 44/50\n",
      "5/5 [==============================] - 0s 45ms/step - loss: 0.1694 - accuracy: 0.9773\n",
      "Epoch 45/50\n",
      "5/5 [==============================] - 0s 52ms/step - loss: 0.2532 - accuracy: 0.9318\n",
      "Epoch 46/50\n",
      "5/5 [==============================] - 0s 37ms/step - loss: 0.1958 - accuracy: 0.9773\n",
      "Epoch 47/50\n",
      "5/5 [==============================] - 0s 43ms/step - loss: 0.1677 - accuracy: 0.9621\n",
      "Epoch 48/50\n",
      "5/5 [==============================] - 0s 47ms/step - loss: 0.1373 - accuracy: 0.9773\n",
      "Epoch 49/50\n",
      "5/5 [==============================] - 0s 68ms/step - loss: 0.1583 - accuracy: 0.9773\n",
      "Epoch 50/50\n",
      "5/5 [==============================] - 0s 47ms/step - loss: 0.1648 - accuracy: 0.9621\n"
     ]
    }
   ],
   "source": [
    "# Training of the model and Setting hyperparameters for the model\n",
    "hist = model.fit(embedding_matrix_train,Y_train,\n",
    "                epochs = 50, batch_size=32,shuffle=True\n",
    "                )"
   ]
  },
  {
   "cell_type": "code",
   "execution_count": 60,
   "metadata": {},
   "outputs": [
    {
     "name": "stdout",
     "output_type": "stream",
     "text": [
      "<class 'numpy.ndarray'>\n"
     ]
    }
   ],
   "source": [
    "# Prediction of the trained model \n",
    "pred = model.predict_classes(embedding_matrix_test)\n",
    "print(type(pred))"
   ]
  },
  {
   "cell_type": "markdown",
   "metadata": {},
   "source": [
    "### ACCURACY"
   ]
  },
  {
   "cell_type": "code",
   "execution_count": 61,
   "metadata": {},
   "outputs": [
    {
     "data": {
      "text/plain": [
       "0.5"
      ]
     },
     "execution_count": 61,
     "metadata": {},
     "output_type": "execute_result"
    }
   ],
   "source": [
    "# Calculating the accuracy of the algorithm\n",
    "float(sum(pred==Y_test))/embedding_matrix_test.shape[0]"
   ]
  },
  {
   "cell_type": "code",
   "execution_count": 62,
   "metadata": {},
   "outputs": [
    {
     "data": {
      "image/png": "[encoded data removed]",
      "text/plain": [
       "<Figure size 432x288 with 1 Axes>"
      ]
     },
     "metadata": {
      "needs_background": "light"
     },
     "output_type": "display_data"
    }
   ],
   "source": [
    "# history_dict = history.history\n",
    "# print(history_dict.keys())\n",
    "loss_train = hist.history['accuracy']\n",
    "loss_val = hist.history['loss']\n",
    "epochs = range(1,51)\n",
    "plt.plot(epochs, loss_train, 'g', label='Training accuracy')\n",
    "plt.plot(epochs, loss_val, 'b', label='validation accuracy')\n",
    "plt.title('Training and Validation accuracy')\n",
    "plt.xlabel('Epochs')\n",
    "plt.ylabel('Accuracy')\n",
    "plt.legend()\n",
    "plt.show()"
   ]
  },
  {
   "cell_type": "code",
   "execution_count": 63,
   "metadata": {
    "scrolled": true
   },
   "outputs": [
    {
     "name": "stdout",
     "output_type": "stream",
     "text": [
      "2\n",
      "['he', 'got', 'a', 'raise'] 😞 😄\n",
      "3\n",
      "['she', 'got', 'me', 'a', 'present'] 😄 ❤\n",
      "5\n",
      "['he', 'is', 'a', 'good', 'friend'] 😄 ❤\n",
      "6\n",
      "['I', 'am', 'upset'] 😞 ❤\n",
      "7\n",
      "['We', 'had', 'such', 'a', 'lovely', 'dinner', 'tonight'] 🍴 ❤\n",
      "9\n",
      "['Stop', 'making', 'this', 'joke', 'ha', 'ha', 'ha'] 😞 😄\n",
      "11\n",
      "['work', 'is', 'hard'] ❤ 😞\n",
      "12\n",
      "['This', 'girl', 'is', 'messing', 'with', 'me'] 😄 😞\n",
      "13\n",
      "['are', 'you', 'serious', 'ha', 'ha'] 🍴 😄\n",
      "17\n",
      "['Congratulation', 'for', 'having', 'a', 'baby'] 😞 😄\n",
      "18\n",
      "['stop', 'messing', 'around'] ❤ 😞\n",
      "21\n",
      "['you', 'brighten', 'my', 'day'] 🍴 😄\n",
      "23\n",
      "['she', 'is', 'a', 'bully'] ❤ 😞\n",
      "26\n",
      "['I', 'worked', 'during', 'my', 'birthday'] 😄 😞\n",
      "27\n",
      "['My', 'grandmother', 'is', 'the', 'love', 'of', 'my', 'life'] 😞 ❤\n",
      "28\n",
      "['enjoy', 'your', 'break'] ❤ 😄\n",
      "29\n",
      "['valentine', 'day', 'is', 'near'] 😄 ❤\n",
      "30\n",
      "['I', 'miss', 'you', 'so', 'much'] 😞 ❤\n",
      "34\n",
      "['will', 'you', 'be', 'my', 'valentine'] 😞 ❤\n",
      "35\n",
      "['he', 'can', 'pitch', 'really', 'well'] 😞 ⚾\n",
      "41\n",
      "['I', 'like', 'your', 'jacket'] ❤ 😄\n",
      "45\n",
      "['I', 'love', 'to', 'the', 'stars', 'and', 'back'] ⚾ ❤\n",
      "46\n",
      "['What', 'you', 'did', 'was', 'awesome'] ⚾ 😄\n",
      "47\n",
      "['ha', 'ha', 'ha', 'lol'] 🍴 😄\n",
      "50\n",
      "['yesterday', 'we', 'lost', 'again'] ⚾ 😞\n",
      "51\n",
      "['family', 'is', 'all', 'I', 'have'] 😞 ❤\n",
      "54\n",
      "['You', 'totally', 'deserve', 'this', 'prize'] 😞 😄\n",
      "55\n",
      "['I', 'did', 'not', 'have', 'breakfast'] 🍴 😞\n"
     ]
    }
   ],
   "source": [
    "# Printing the sentences with the predicted and labled emoji\n",
    "for ix in range(embedding_matrix_test.shape[0]):\n",
    "    \n",
    "    if pred[ix] != Y_test[ix]:\n",
    "        print(ix)\n",
    "        print (test[0][ix],end=\" \")\n",
    "        print (emoji.emojize(emoji_dict[pred[ix]], use_aliases=True),end=\" \")\n",
    "        print (emoji.emojize(emoji_dict[Y_test[ix]], use_aliases=True))"
   ]
  },
  {
   "cell_type": "code",
   "execution_count": 64,
   "metadata": {},
   "outputs": [],
   "source": [
    "# Predicting for our random sentence\n",
    "x = ['lets', 'have', 'dinner']\n",
    "\n",
    "x_ = np.zeros((1,10,50))\n",
    "\n",
    "for ix in range(len(x)):\n",
    "    x_[0][ix] = embeddings_index[x[ix].lower()]"
   ]
  },
  {
   "cell_type": "code",
   "execution_count": 65,
   "metadata": {},
   "outputs": [
    {
     "data": {
      "text/plain": [
       "array([4], dtype=int64)"
      ]
     },
     "execution_count": 65,
     "metadata": {},
     "output_type": "execute_result"
    }
   ],
   "source": [
    "model.predict_classes(x_)"
   ]
  },
  {
   "cell_type": "markdown",
   "metadata": {},
   "source": [
    "##  - Using LSTM"
   ]
  },
  {
   "cell_type": "code",
   "execution_count": 66,
   "metadata": {},
   "outputs": [
    {
     "name": "stdout",
     "output_type": "stream",
     "text": [
      "Model: \"sequential_3\"\n",
      "_________________________________________________________________\n",
      "Layer (type)                 Output Shape              Param #   \n",
      "=================================================================\n",
      "lstm_2 (LSTM)                (None, 10, 128)           91648     \n",
      "_________________________________________________________________\n",
      "dropout_6 (Dropout)          (None, 10, 128)           0         \n",
      "_________________________________________________________________\n",
      "lstm_3 (LSTM)                (None, 128)               131584    \n",
      "_________________________________________________________________\n",
      "dropout_7 (Dropout)          (None, 128)               0         \n",
      "_________________________________________________________________\n",
      "dense_3 (Dense)              (None, 5)                 645       \n",
      "_________________________________________________________________\n",
      "activation_3 (Activation)    (None, 5)                 0         \n",
      "=================================================================\n",
      "Total params: 223,877\n",
      "Trainable params: 223,877\n",
      "Non-trainable params: 0\n",
      "_________________________________________________________________\n"
     ]
    }
   ],
   "source": [
    "# A simple LSTM network\n",
    "model = Sequential()\n",
    "model.add(LSTM(128, input_shape=(10,50), return_sequences=True))\n",
    "model.add(Dropout(0.5))\n",
    "model.add(LSTM(128, return_sequences=False))\n",
    "model.add(Dropout(0.5))\n",
    "model.add(Dense(5))\n",
    "model.add(Activation('softmax'))\n",
    "\n",
    "model.summary()"
   ]
  },
  {
   "cell_type": "code",
   "execution_count": 67,
   "metadata": {},
   "outputs": [],
   "source": [
    "# Setting Loss ,Optimiser for model\n",
    "model.compile(loss='categorical_crossentropy', optimizer='adam', metrics=['accuracy'])"
   ]
  },
  {
   "cell_type": "code",
   "execution_count": 68,
   "metadata": {
    "scrolled": true
   },
   "outputs": [
    {
     "name": "stdout",
     "output_type": "stream",
     "text": [
      "Epoch 1/50\n",
      "5/5 [==============================] - 0s 14ms/step - loss: 1.5913 - accuracy: 0.2576\n",
      "Epoch 2/50\n",
      "5/5 [==============================] - 0s 14ms/step - loss: 1.5112 - accuracy: 0.3258\n",
      "Epoch 3/50\n",
      "5/5 [==============================] - 0s 13ms/step - loss: 1.4970 - accuracy: 0.3561\n",
      "Epoch 4/50\n",
      "5/5 [==============================] - 0s 71ms/step - loss: 1.4235 - accuracy: 0.4242\n",
      "Epoch 5/50\n",
      "5/5 [==============================] - 1s 110ms/step - loss: 1.3202 - accuracy: 0.5455\n",
      "Epoch 6/50\n",
      "5/5 [==============================] - 1s 115ms/step - loss: 1.1864 - accuracy: 0.5682\n",
      "Epoch 7/50\n",
      "5/5 [==============================] - 1s 128ms/step - loss: 1.0243 - accuracy: 0.6288\n",
      "Epoch 8/50\n",
      "5/5 [==============================] - 1s 110ms/step - loss: 0.9056 - accuracy: 0.6894\n",
      "Epoch 9/50\n",
      "5/5 [==============================] - 1s 115ms/step - loss: 0.8156 - accuracy: 0.6970\n",
      "Epoch 10/50\n",
      "5/5 [==============================] - 1s 130ms/step - loss: 0.7298 - accuracy: 0.6894\n",
      "Epoch 11/50\n",
      "5/5 [==============================] - 0s 13ms/step - loss: 0.6457 - accuracy: 0.7727\n",
      "Epoch 12/50\n",
      "5/5 [==============================] - 0s 15ms/step - loss: 0.5655 - accuracy: 0.8030\n",
      "Epoch 13/50\n",
      "5/5 [==============================] - 0s 15ms/step - loss: 0.4516 - accuracy: 0.8409\n",
      "Epoch 14/50\n",
      "5/5 [==============================] - 0s 13ms/step - loss: 0.4028 - accuracy: 0.8939\n",
      "Epoch 15/50\n",
      "5/5 [==============================] - 0s 13ms/step - loss: 0.5356 - accuracy: 0.8182\n",
      "Epoch 16/50\n",
      "5/5 [==============================] - 0s 14ms/step - loss: 0.3993 - accuracy: 0.8258\n",
      "Epoch 17/50\n",
      "5/5 [==============================] - 0s 11ms/step - loss: 0.3921 - accuracy: 0.8333\n",
      "Epoch 18/50\n",
      "5/5 [==============================] - 0s 12ms/step - loss: 0.3459 - accuracy: 0.8788\n",
      "Epoch 19/50\n",
      "5/5 [==============================] - 0s 12ms/step - loss: 0.3418 - accuracy: 0.8636\n",
      "Epoch 20/50\n",
      "5/5 [==============================] - 0s 39ms/step - loss: 0.3218 - accuracy: 0.8864\n",
      "Epoch 21/50\n",
      "5/5 [==============================] - 1s 117ms/step - loss: 0.2112 - accuracy: 0.9167\n",
      "Epoch 22/50\n",
      "5/5 [==============================] - 1s 130ms/step - loss: 0.2304 - accuracy: 0.9242\n",
      "Epoch 23/50\n",
      "5/5 [==============================] - 1s 141ms/step - loss: 0.2288 - accuracy: 0.9167\n",
      "Epoch 24/50\n",
      "5/5 [==============================] - 1s 128ms/step - loss: 0.3562 - accuracy: 0.8561\n",
      "Epoch 25/50\n",
      "5/5 [==============================] - 1s 108ms/step - loss: 0.4394 - accuracy: 0.8485\n",
      "Epoch 26/50\n",
      "5/5 [==============================] - 1s 111ms/step - loss: 0.1974 - accuracy: 0.9318\n",
      "Epoch 27/50\n",
      "5/5 [==============================] - 0s 31ms/step - loss: 0.1834 - accuracy: 0.9394\n",
      "Epoch 28/50\n",
      "5/5 [==============================] - 0s 13ms/step - loss: 0.2596 - accuracy: 0.9091\n",
      "Epoch 29/50\n",
      "5/5 [==============================] - 0s 15ms/step - loss: 0.1537 - accuracy: 0.9697\n",
      "Epoch 30/50\n",
      "5/5 [==============================] - 0s 14ms/step - loss: 0.1906 - accuracy: 0.9394\n",
      "Epoch 31/50\n",
      "5/5 [==============================] - 0s 14ms/step - loss: 0.2590 - accuracy: 0.9091\n",
      "Epoch 32/50\n",
      "5/5 [==============================] - 0s 13ms/step - loss: 0.1496 - accuracy: 0.9470\n",
      "Epoch 33/50\n",
      "5/5 [==============================] - 0s 12ms/step - loss: 0.1615 - accuracy: 0.9697\n",
      "Epoch 34/50\n",
      "5/5 [==============================] - 0s 12ms/step - loss: 0.0834 - accuracy: 0.9773\n",
      "Epoch 35/50\n",
      "5/5 [==============================] - 1s 106ms/step - loss: 0.0929 - accuracy: 0.9621\n",
      "Epoch 36/50\n",
      "5/5 [==============================] - 1s 104ms/step - loss: 0.1041 - accuracy: 0.9697\n",
      "Epoch 37/50\n",
      "5/5 [==============================] - 1s 113ms/step - loss: 0.0645 - accuracy: 0.9773\n",
      "Epoch 38/50\n",
      "5/5 [==============================] - 1s 106ms/step - loss: 0.0535 - accuracy: 0.9773\n",
      "Epoch 39/50\n",
      "5/5 [==============================] - 1s 108ms/step - loss: 0.0346 - accuracy: 0.9924\n",
      "Epoch 40/50\n",
      "5/5 [==============================] - 1s 117ms/step - loss: 0.0323 - accuracy: 1.0000\n",
      "Epoch 41/50\n",
      "5/5 [==============================] - 1s 111ms/step - loss: 0.0266 - accuracy: 1.0000\n",
      "Epoch 42/50\n",
      "5/5 [==============================] - 0s 43ms/step - loss: 0.0201 - accuracy: 1.0000\n",
      "Epoch 43/50\n",
      "5/5 [==============================] - 0s 12ms/step - loss: 0.0322 - accuracy: 0.9924\n",
      "Epoch 44/50\n",
      "5/5 [==============================] - 0s 15ms/step - loss: 0.0206 - accuracy: 0.9924\n",
      "Epoch 45/50\n",
      "5/5 [==============================] - 0s 13ms/step - loss: 0.0238 - accuracy: 0.9848\n",
      "Epoch 46/50\n",
      "5/5 [==============================] - 0s 13ms/step - loss: 0.0099 - accuracy: 1.0000\n",
      "Epoch 47/50\n",
      "5/5 [==============================] - 1s 107ms/step - loss: 0.0156 - accuracy: 0.99240s - loss: 0.0055 - accuracy\n",
      "Epoch 48/50\n",
      "5/5 [==============================] - 1s 112ms/step - loss: 0.0054 - accuracy: 1.0000\n",
      "Epoch 49/50\n",
      "5/5 [==============================] - 1s 111ms/step - loss: 0.0098 - accuracy: 1.0000\n",
      "Epoch 50/50\n",
      "5/5 [==============================] - 1s 126ms/step - loss: 0.0037 - accuracy: 1.00000s - loss: 0.0053 - accuracy\n"
     ]
    }
   ],
   "source": [
    "# Training model\n",
    "history = model.fit(embedding_matrix_train,Y_train,\n",
    "                epochs = 50, batch_size=32,shuffle=True\n",
    "                )"
   ]
  },
  {
   "cell_type": "code",
   "execution_count": 69,
   "metadata": {},
   "outputs": [],
   "source": [
    "# Prediction of trained model\n",
    "pred = model.predict_classes(embedding_matrix_test)\n",
    "# print(pred)\n",
    "# print (pred.shape, embedding_matrix_test.shape, Y_test.shape)\n",
    "# print(Y_test)"
   ]
  },
  {
   "cell_type": "markdown",
   "metadata": {},
   "source": [
    "### ACCURACY"
   ]
  },
  {
   "cell_type": "code",
   "execution_count": 70,
   "metadata": {},
   "outputs": [
    {
     "data": {
      "text/plain": [
       "0.625"
      ]
     },
     "execution_count": 70,
     "metadata": {},
     "output_type": "execute_result"
    }
   ],
   "source": [
    "# Calculating accuracy / score  of the model\n",
    "float(sum(pred==Y_test))/embedding_matrix_test.shape[0]"
   ]
  },
  {
   "cell_type": "code",
   "execution_count": 71,
   "metadata": {},
   "outputs": [
    {
     "data": {
      "image/png": "[encoded data removed]",
      "text/plain": [
       "<Figure size 432x288 with 1 Axes>"
      ]
     },
     "metadata": {
      "needs_background": "light"
     },
     "output_type": "display_data"
    }
   ],
   "source": [
    "# history_dict = history.history\n",
    "# print(history_dict.keys())\n",
    "loss_train = history.history['accuracy']\n",
    "loss_val = history.history['loss']\n",
    "epochs = range(1,51)\n",
    "plt.plot(epochs, loss_train, 'g', label='Training accuracy')\n",
    "plt.plot(epochs, loss_val, 'b', label='validation accuracy')\n",
    "plt.title('Training and Validation accuracy')\n",
    "plt.xlabel('Epochs')\n",
    "plt.ylabel('Accuracy')\n",
    "plt.legend()\n",
    "plt.show()"
   ]
  },
  {
   "cell_type": "code",
   "execution_count": 72,
   "metadata": {
    "scrolled": true
   },
   "outputs": [
    {
     "name": "stdout",
     "output_type": "stream",
     "text": [
      "2\n",
      "['he', 'got', 'a', 'raise'] 😞 😄\n",
      "5\n",
      "['he', 'is', 'a', 'good', 'friend'] 😄 ❤\n",
      "6\n",
      "['I', 'am', 'upset'] 😞 ❤\n",
      "7\n",
      "['We', 'had', 'such', 'a', 'lovely', 'dinner', 'tonight'] 😄 ❤\n",
      "11\n",
      "['work', 'is', 'hard'] 😄 😞\n",
      "12\n",
      "['This', 'girl', 'is', 'messing', 'with', 'me'] ❤ 😞\n",
      "13\n",
      "['are', 'you', 'serious', 'ha', 'ha'] 😞 😄\n",
      "16\n",
      "['work', 'is', 'horrible'] 😄 😞\n",
      "19\n",
      "['any', 'suggestions', 'for', 'dinner'] 😄 🍴\n",
      "21\n",
      "['you', 'brighten', 'my', 'day'] ❤ 😄\n",
      "23\n",
      "['she', 'is', 'a', 'bully'] ❤ 😞\n",
      "26\n",
      "['I', 'worked', 'during', 'my', 'birthday'] 😄 😞\n",
      "28\n",
      "['enjoy', 'your', 'break'] ⚾ 😄\n",
      "29\n",
      "['valentine', 'day', 'is', 'near'] 😄 ❤\n",
      "32\n",
      "['My', 'life', 'is', 'so', 'boring'] ❤ 😞\n",
      "40\n",
      "['I', 'will', 'go', 'dance'] ⚾ 😄\n",
      "41\n",
      "['I', 'like', 'your', 'jacket'] ❤ 😄\n",
      "45\n",
      "['I', 'love', 'to', 'the', 'stars', 'and', 'back'] 😄 ❤\n",
      "48\n",
      "['I', 'want', 'to', 'joke'] 😞 😄\n",
      "49\n",
      "['go', 'away'] ⚾ 😞\n",
      "55\n",
      "['I', 'did', 'not', 'have', 'breakfast'] 🍴 😞\n"
     ]
    }
   ],
   "source": [
    "# Printing the sentences with the predicted and the labelled emoji\n",
    "for ix in range(embedding_matrix_test.shape[0]):\n",
    "    \n",
    "    if pred[ix] != Y_test[ix]:\n",
    "        print(ix)\n",
    "        print (test[0][ix],end=\" \")\n",
    "        print (emoji.emojize(emoji_dict[pred[ix]], use_aliases=True),end=\" \")\n",
    "        print (emoji.emojize(emoji_dict[Y_test[ix]], use_aliases=True))"
   ]
  }
 ],
 "metadata": {
  "kernelspec": {
   "display_name": "Python 3",
   "language": "python",
   "name": "python3"
  },
  "language_info": {
   "codemirror_mode": {
    "name": "ipython",
    "version": 3
   },
   "file_extension": ".py",
   "mimetype": "text/x-python",
   "name": "python",
   "nbconvert_exporter": "python",
   "pygments_lexer": "ipython3",
   "version": "3.8.3"
  }
 },
 "nbformat": 4,
 "nbformat_minor": 2
}
